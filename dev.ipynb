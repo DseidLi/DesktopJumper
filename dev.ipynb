{
 "cells": [
  {
   "cell_type": "code",
   "execution_count": 6,
   "metadata": {},
   "outputs": [
    {
     "name": "stdout",
     "output_type": "stream",
     "text": [
      "当前桌面: Desktop 6\n"
     ]
    }
   ],
   "source": [
    "import subprocess\n",
    "\n",
    "def get_current_desktop():\n",
    "    script = \"\"\"\n",
    "    set currentDesktop to \"\"\n",
    "    try\n",
    "        tell application \"System Events\" to tell process \"WhichSpace\"\n",
    "            set currentDesktop to value of attribute \"AXTitle\" of menu bar item 1 of menu bar 1\n",
    "        end tell\n",
    "    end try\n",
    "    return currentDesktop\n",
    "    \"\"\"\n",
    "    result = subprocess.run(['osascript', '-e', script], stdout=subprocess.PIPE)\n",
    "    return result.stdout.decode('utf-8').strip()\n",
    "\n",
    "current_desktop = get_current_desktop()\n",
    "print(f\"当前桌面: Desktop {current_desktop}\")"
   ]
  },
  {
   "cell_type": "code",
   "execution_count": 9,
   "metadata": {},
   "outputs": [],
   "source": [
    "# not working\n",
    "import pyautogui\n",
    "import time\n",
    "\n",
    "# 确保有足够的时间切换到正确的窗口\n",
    "time.sleep(1)\n",
    "\n",
    "# 按下Ctrl和3\n",
    "pyautogui.hotkey('ctrl', '3')"
   ]
  },
  {
   "cell_type": "code",
   "execution_count": null,
   "metadata": {},
   "outputs": [],
   "source": [
    "# not working\n",
    "import Quartz\n",
    "import time\n",
    "\n",
    "def press_key(key_code, modifiers=[]):\n",
    "    # Create a keyboard event for key down\n",
    "    event = Quartz.CGEventCreateKeyboardEvent(None, key_code, True)\n",
    "    for modifier in modifiers:\n",
    "        event = Quartz.CGEventSetFlags(event, Quartz.CGEventGetFlags(event) | modifier)\n",
    "    Quartz.CGEventPost(Quartz.kCGHIDEventTap, event)\n",
    "\n",
    "    # Create a keyboard event for key up\n",
    "    event = Quartz.CGEventCreateKeyboardEvent(None, key_code, False)\n",
    "    Quartz.CGEventPost(Quartz.kCGHIDEventTap, event)\n",
    "\n",
    "# Key code for '3' is 0x14 (20 in decimal)\n",
    "# Modifier for control key is 0x40000 (1048576 in decimal)\n",
    "key_code = 0x14\n",
    "modifiers = [Quartz.kCGEventFlagMaskControl]\n",
    "\n",
    "# Press Ctrl + 3\n",
    "press_key(key_code, modifiers)\n",
    "\n",
    "# Wait for the event to process\n",
    "time.sleep(0.1)"
   ]
  },
  {
   "cell_type": "markdown",
   "metadata": {},
   "source": []
  },
  {
   "cell_type": "code",
   "execution_count": null,
   "metadata": {},
   "outputs": [],
   "source": []
  }
 ],
 "metadata": {
  "kernelspec": {
   "display_name": "pytorch",
   "language": "python",
   "name": "python3"
  },
  "language_info": {
   "codemirror_mode": {
    "name": "ipython",
    "version": 3
   },
   "file_extension": ".py",
   "mimetype": "text/x-python",
   "name": "python",
   "nbconvert_exporter": "python",
   "pygments_lexer": "ipython3",
   "version": "3.10.13"
  }
 },
 "nbformat": 4,
 "nbformat_minor": 2
}
